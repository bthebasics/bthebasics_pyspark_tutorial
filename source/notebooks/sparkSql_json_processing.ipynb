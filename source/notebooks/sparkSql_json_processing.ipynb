{
 "cells": [
  {
   "cell_type": "code",
   "execution_count": 1,
   "metadata": {},
   "outputs": [
    {
     "data": {
      "text/html": [
       "\n",
       "            <div>\n",
       "                <p><b>SparkSession - hive</b></p>\n",
       "                \n",
       "        <div>\n",
       "            <p><b>SparkContext</b></p>\n",
       "\n",
       "            <p><a href=\"http://192.168.184.1:4040\">Spark UI</a></p>\n",
       "\n",
       "            <dl>\n",
       "              <dt>Version</dt>\n",
       "                <dd><code>v2.2.1</code></dd>\n",
       "              <dt>Master</dt>\n",
       "                <dd><code>local[*]</code></dd>\n",
       "              <dt>AppName</dt>\n",
       "                <dd><code>PySparkShell</code></dd>\n",
       "            </dl>\n",
       "        </div>\n",
       "        \n",
       "            </div>\n",
       "        "
      ],
      "text/plain": [
       "<pyspark.sql.session.SparkSession at 0x17b71316240>"
      ]
     },
     "execution_count": 1,
     "metadata": {},
     "output_type": "execute_result"
    }
   ],
   "source": [
    "spark"
   ]
  },
  {
   "cell_type": "code",
   "execution_count": 65,
   "metadata": {},
   "outputs": [
    {
     "data": {
      "text/plain": [
       "DataFrame[_corrupt_record: string]"
      ]
     },
     "execution_count": 65,
     "metadata": {},
     "output_type": "execute_result"
    }
   ],
   "source": [
    "jsonRDD1 = spark.read.format(\"json\").load(\"c:/data/all-world-cup-players.json\")"
   ]
  },
  {
   "cell_type": "code",
   "execution_count": 17,
   "metadata": {
    "collapsed": true
   },
   "outputs": [],
   "source": [
    "jsonRDD = sc.wholeTextFiles(\"file///c:/data/all-world-cup-players.json\",4).map(lambda x: x[1])"
   ]
  },
  {
   "cell_type": "code",
   "execution_count": 26,
   "metadata": {},
   "outputs": [
    {
     "name": "stderr",
     "output_type": "stream",
     "text": [
      "IOPub data rate exceeded.\n",
      "The notebook server will temporarily stop sending output\n",
      "to the client in order to avoid crashing it.\n",
      "To change this limit, set the config variable\n",
      "`--NotebookApp.iopub_data_rate_limit`.\n"
     ]
    }
   ],
   "source": [
    "sc.wholeTextFiles(\"file///c:/data/all-world-cup-players.json\").take(1)"
   ]
  },
  {
   "cell_type": "code",
   "execution_count": 18,
   "metadata": {
    "collapsed": true
   },
   "outputs": [],
   "source": [
    "import re\n",
    "js = jsonRDD.map(lambda x: re.sub(r\"\\s+\", \"\", x, flags=re.UNICODE))"
   ]
  },
  {
   "cell_type": "code",
   "execution_count": 22,
   "metadata": {},
   "outputs": [],
   "source": [
    "wc_players = sqlContext.read.json(js)"
   ]
  },
  {
   "cell_type": "code",
   "execution_count": 11,
   "metadata": {},
   "outputs": [
    {
     "name": "stdout",
     "output_type": "stream",
     "text": [
      "root\n",
      " |-- Club: string (nullable = true)\n",
      " |-- ClubCountry: string (nullable = true)\n",
      " |-- Competition: string (nullable = true)\n",
      " |-- DateOfBirth: string (nullable = true)\n",
      " |-- FullName: string (nullable = true)\n",
      " |-- IsCaptain: boolean (nullable = true)\n",
      " |-- Number: string (nullable = true)\n",
      " |-- Position: string (nullable = true)\n",
      " |-- Team: string (nullable = true)\n",
      " |-- Year: long (nullable = true)\n",
      "\n"
     ]
    }
   ],
   "source": [
    "wc_players.printSchema()"
   ]
  },
  {
   "cell_type": "markdown",
   "metadata": {},
   "source": [
    "### https://stackoverflow.com/questions/43551670/pyspark-json-object-or-file-to-rdd"
   ]
  },
  {
   "cell_type": "code",
   "execution_count": 27,
   "metadata": {},
   "outputs": [],
   "source": [
    "askRedditDF = spark.read.json(\"c:/data/AskReddit.json\")"
   ]
  },
  {
   "cell_type": "code",
   "execution_count": 28,
   "metadata": {},
   "outputs": [
    {
     "name": "stdout",
     "output_type": "stream",
     "text": [
      "root\n",
      " |-- _corrupt_record: string (nullable = true)\n",
      "\n"
     ]
    }
   ],
   "source": [
    "askRedditDF.printSchema()"
   ]
  },
  {
   "cell_type": "code",
   "execution_count": 29,
   "metadata": {},
   "outputs": [],
   "source": [
    "redditRDD = sc.wholeTextFiles(\"file///c:/data/AskReddit.json\",4).map(lambda x: x[1])"
   ]
  },
  {
   "cell_type": "code",
   "execution_count": 30,
   "metadata": {
    "collapsed": true
   },
   "outputs": [],
   "source": [
    "import re\n",
    "redditjs = redditRDD.map(lambda x: re.sub(r\"\\s+\", \"\", x, flags=re.UNICODE))"
   ]
  },
  {
   "cell_type": "code",
   "execution_count": 31,
   "metadata": {
    "collapsed": true
   },
   "outputs": [],
   "source": [
    "askRedditDF = sqlContext.read.json(redditjs)"
   ]
  },
  {
   "cell_type": "code",
   "execution_count": 32,
   "metadata": {},
   "outputs": [
    {
     "name": "stdout",
     "output_type": "stream",
     "text": [
      "root\n",
      " |-- data: struct (nullable = true)\n",
      " |    |-- after: string (nullable = true)\n",
      " |    |-- before: string (nullable = true)\n",
      " |    |-- children: array (nullable = true)\n",
      " |    |    |-- element: struct (containsNull = true)\n",
      " |    |    |    |-- data: struct (nullable = true)\n",
      " |    |    |    |    |-- approved_at_utc: string (nullable = true)\n",
      " |    |    |    |    |-- approved_by: string (nullable = true)\n",
      " |    |    |    |    |-- archived: boolean (nullable = true)\n",
      " |    |    |    |    |-- author: string (nullable = true)\n",
      " |    |    |    |    |-- author_flair_css_class: string (nullable = true)\n",
      " |    |    |    |    |-- author_flair_text: string (nullable = true)\n",
      " |    |    |    |    |-- banned_at_utc: string (nullable = true)\n",
      " |    |    |    |    |-- banned_by: string (nullable = true)\n",
      " |    |    |    |    |-- brand_safe: boolean (nullable = true)\n",
      " |    |    |    |    |-- can_gild: boolean (nullable = true)\n",
      " |    |    |    |    |-- can_mod_post: boolean (nullable = true)\n",
      " |    |    |    |    |-- clicked: boolean (nullable = true)\n",
      " |    |    |    |    |-- contest_mode: boolean (nullable = true)\n",
      " |    |    |    |    |-- created: long (nullable = true)\n",
      " |    |    |    |    |-- created_utc: long (nullable = true)\n",
      " |    |    |    |    |-- distinguished: string (nullable = true)\n",
      " |    |    |    |    |-- domain: string (nullable = true)\n",
      " |    |    |    |    |-- downs: long (nullable = true)\n",
      " |    |    |    |    |-- edited: boolean (nullable = true)\n",
      " |    |    |    |    |-- gilded: long (nullable = true)\n",
      " |    |    |    |    |-- hidden: boolean (nullable = true)\n",
      " |    |    |    |    |-- hide_score: boolean (nullable = true)\n",
      " |    |    |    |    |-- id: string (nullable = true)\n",
      " |    |    |    |    |-- is_crosspostable: boolean (nullable = true)\n",
      " |    |    |    |    |-- is_reddit_media_domain: boolean (nullable = true)\n",
      " |    |    |    |    |-- is_self: boolean (nullable = true)\n",
      " |    |    |    |    |-- is_video: boolean (nullable = true)\n",
      " |    |    |    |    |-- likes: string (nullable = true)\n",
      " |    |    |    |    |-- link_flair_css_class: string (nullable = true)\n",
      " |    |    |    |    |-- link_flair_text: string (nullable = true)\n",
      " |    |    |    |    |-- locked: boolean (nullable = true)\n",
      " |    |    |    |    |-- media: string (nullable = true)\n",
      " |    |    |    |    |-- mod_note: string (nullable = true)\n",
      " |    |    |    |    |-- mod_reason_by: string (nullable = true)\n",
      " |    |    |    |    |-- mod_reason_title: string (nullable = true)\n",
      " |    |    |    |    |-- mod_reports: array (nullable = true)\n",
      " |    |    |    |    |    |-- element: string (containsNull = true)\n",
      " |    |    |    |    |-- name: string (nullable = true)\n",
      " |    |    |    |    |-- num_comments: long (nullable = true)\n",
      " |    |    |    |    |-- num_crossposts: long (nullable = true)\n",
      " |    |    |    |    |-- num_reports: string (nullable = true)\n",
      " |    |    |    |    |-- over_18: boolean (nullable = true)\n",
      " |    |    |    |    |-- parent_whitelist_status: string (nullable = true)\n",
      " |    |    |    |    |-- permalink: string (nullable = true)\n",
      " |    |    |    |    |-- pinned: boolean (nullable = true)\n",
      " |    |    |    |    |-- quarantine: boolean (nullable = true)\n",
      " |    |    |    |    |-- removal_reason: string (nullable = true)\n",
      " |    |    |    |    |-- report_reasons: string (nullable = true)\n",
      " |    |    |    |    |-- saved: boolean (nullable = true)\n",
      " |    |    |    |    |-- score: long (nullable = true)\n",
      " |    |    |    |    |-- secure_media: string (nullable = true)\n",
      " |    |    |    |    |-- selftext: string (nullable = true)\n",
      " |    |    |    |    |-- selftext_html: string (nullable = true)\n",
      " |    |    |    |    |-- spoiler: boolean (nullable = true)\n",
      " |    |    |    |    |-- stickied: boolean (nullable = true)\n",
      " |    |    |    |    |-- subreddit: string (nullable = true)\n",
      " |    |    |    |    |-- subreddit_id: string (nullable = true)\n",
      " |    |    |    |    |-- subreddit_name_prefixed: string (nullable = true)\n",
      " |    |    |    |    |-- subreddit_type: string (nullable = true)\n",
      " |    |    |    |    |-- suggested_sort: string (nullable = true)\n",
      " |    |    |    |    |-- thumbnail: string (nullable = true)\n",
      " |    |    |    |    |-- title: string (nullable = true)\n",
      " |    |    |    |    |-- ups: long (nullable = true)\n",
      " |    |    |    |    |-- url: string (nullable = true)\n",
      " |    |    |    |    |-- user_reports: array (nullable = true)\n",
      " |    |    |    |    |    |-- element: string (containsNull = true)\n",
      " |    |    |    |    |-- view_count: string (nullable = true)\n",
      " |    |    |    |    |-- visited: boolean (nullable = true)\n",
      " |    |    |    |    |-- whitelist_status: string (nullable = true)\n",
      " |    |    |    |-- kind: string (nullable = true)\n",
      " |    |-- modhash: string (nullable = true)\n",
      " |    |-- whitelist_status: string (nullable = true)\n",
      " |-- kind: string (nullable = true)\n",
      "\n"
     ]
    }
   ],
   "source": [
    "askRedditDF.printSchema()"
   ]
  },
  {
   "cell_type": "code",
   "execution_count": 34,
   "metadata": {},
   "outputs": [
    {
     "ename": "SyntaxError",
     "evalue": "invalid syntax (<ipython-input-34-f6d04d4591b7>, line 2)",
     "output_type": "error",
     "traceback": [
      "\u001b[1;36m  File \u001b[1;32m\"<ipython-input-34-f6d04d4591b7>\"\u001b[1;36m, line \u001b[1;32m2\u001b[0m\n\u001b[1;33m    .withColumn('after',askRedditDF.data.after).withColumn('before',askRedditDF.data.before).withColumn('modhash',askRedditDF.data.modhash).withColumn('NestedKind',explode(askRedditDF.data.children.kind)).withColumn('subreddit',explode(askRedditDF.data.children.data.subreddit)).withColumn('clicked',explode(askRedditDF.data.children.data.clicked)).show()\u001b[0m\n\u001b[1;37m    ^\u001b[0m\n\u001b[1;31mSyntaxError\u001b[0m\u001b[1;31m:\u001b[0m invalid syntax\n"
     ]
    }
   ],
   "source": [
    "askRedditDF\n",
    ".withColumn('after',askRedditDF.data.after)\\\n",
    ".withColumn('before',askRedditDF.data.before)\\\n",
    ".withColumn('modhash',askRedditDF.data.modhash)\\\n",
    ".withColumn('NestedKind',explode(askRedditDF.data.children.kind))\\\n",
    ".withColumn('subreddit',explode(askRedditDF.data.children.data.subreddit))\\\n",
    ".withColumn('clicked',explode(askRedditDF.data.children.data.clicked))\\\n",
    ".show()"
   ]
  },
  {
   "cell_type": "code",
   "execution_count": 40,
   "metadata": {},
   "outputs": [
    {
     "name": "stdout",
     "output_type": "stream",
     "text": [
      "+--------------------+-------+---------+------+-------+----------+-------+\n",
      "|                data|   kind|    after|before|modhash|NestedKind|clicked|\n",
      "+--------------------+-------+---------+------+-------+----------+-------+\n",
      "|[t3_7m1hy4,null,W...|Listing|t3_7m1hy4|  null|       |        t3|  false|\n",
      "|[t3_7m1hy4,null,W...|Listing|t3_7m1hy4|  null|       |        t3|  false|\n",
      "|[t3_7m1hy4,null,W...|Listing|t3_7m1hy4|  null|       |        t3|  false|\n",
      "|[t3_7m1hy4,null,W...|Listing|t3_7m1hy4|  null|       |        t3|  false|\n",
      "|[t3_7m1hy4,null,W...|Listing|t3_7m1hy4|  null|       |        t3|  false|\n",
      "|[t3_7m1hy4,null,W...|Listing|t3_7m1hy4|  null|       |        t3|  false|\n",
      "|[t3_7m1hy4,null,W...|Listing|t3_7m1hy4|  null|       |        t3|  false|\n",
      "|[t3_7m1hy4,null,W...|Listing|t3_7m1hy4|  null|       |        t3|  false|\n",
      "|[t3_7m1hy4,null,W...|Listing|t3_7m1hy4|  null|       |        t3|  false|\n",
      "|[t3_7m1hy4,null,W...|Listing|t3_7m1hy4|  null|       |        t3|  false|\n",
      "|[t3_7m1hy4,null,W...|Listing|t3_7m1hy4|  null|       |        t3|  false|\n",
      "|[t3_7m1hy4,null,W...|Listing|t3_7m1hy4|  null|       |        t3|  false|\n",
      "|[t3_7m1hy4,null,W...|Listing|t3_7m1hy4|  null|       |        t3|  false|\n",
      "|[t3_7m1hy4,null,W...|Listing|t3_7m1hy4|  null|       |        t3|  false|\n",
      "|[t3_7m1hy4,null,W...|Listing|t3_7m1hy4|  null|       |        t3|  false|\n",
      "|[t3_7m1hy4,null,W...|Listing|t3_7m1hy4|  null|       |        t3|  false|\n",
      "|[t3_7m1hy4,null,W...|Listing|t3_7m1hy4|  null|       |        t3|  false|\n",
      "|[t3_7m1hy4,null,W...|Listing|t3_7m1hy4|  null|       |        t3|  false|\n",
      "|[t3_7m1hy4,null,W...|Listing|t3_7m1hy4|  null|       |        t3|  false|\n",
      "|[t3_7m1hy4,null,W...|Listing|t3_7m1hy4|  null|       |        t3|  false|\n",
      "+--------------------+-------+---------+------+-------+----------+-------+\n",
      "only showing top 20 rows\n",
      "\n"
     ]
    }
   ],
   "source": [
    "from pyspark.sql.functions import explode\n",
    "\n",
    "askRedditDF.withColumn('after',askRedditDF.data.after).withColumn('before',askRedditDF.data.before).withColumn('modhash',askRedditDF.data.modhash).withColumn('NestedKind',explode(askRedditDF.data.children.kind)).withColumn('clicked',explode(askRedditDF.data.children.data.clicked)).show()"
   ]
  },
  {
   "cell_type": "markdown",
   "metadata": {},
   "source": [
    "### https://docs.databricks.com/spark/latest/spark-sql/complex-types.html"
   ]
  },
  {
   "cell_type": "code",
   "execution_count": 41,
   "metadata": {
    "collapsed": true
   },
   "outputs": [],
   "source": [
    "from pyspark.sql.functions import *\n",
    "from pyspark.sql.types import *\n",
    "\n",
    "# Convenience function for turning JSON strings into DataFrames.\n",
    "def jsonToDataFrame(json, schema=None):\n",
    "  # SparkSessions are available with Spark 2.0+\n",
    "  reader = spark.read\n",
    "  if schema:\n",
    "    reader.schema(schema)\n",
    "  return reader.json(sc.parallelize([json]))"
   ]
  },
  {
   "cell_type": "code",
   "execution_count": 45,
   "metadata": {
    "collapsed": true
   },
   "outputs": [],
   "source": [
    "# Using a struct\n",
    "schema = StructType().add(\"a\", StructType().add(\"b\", IntegerType()))\n",
    "                          \n",
    "events = jsonToDataFrame(\"\"\"\n",
    "{\n",
    "  \"a\": {\n",
    "     \"b\": 1,\n",
    "     \"c\": 1\n",
    "  }\n",
    "}\n",
    "\"\"\", schema)\n"
   ]
  },
  {
   "cell_type": "code",
   "execution_count": 46,
   "metadata": {},
   "outputs": [
    {
     "name": "stdout",
     "output_type": "stream",
     "text": [
      "+---+\n",
      "|  a|\n",
      "+---+\n",
      "|[1]|\n",
      "+---+\n",
      "\n"
     ]
    }
   ],
   "source": [
    "events.show()"
   ]
  },
  {
   "cell_type": "code",
   "execution_count": 47,
   "metadata": {
    "collapsed": true
   },
   "outputs": [],
   "source": [
    "# Using a map\n",
    "schema = StructType().add(\"a\", MapType(StringType(), IntegerType()))\n",
    "                          \n",
    "events = jsonToDataFrame(\"\"\"\n",
    "{\n",
    "  \"a\": {\n",
    "     \"b\": 1\n",
    "  }\n",
    "}\n",
    "\"\"\", schema)"
   ]
  },
  {
   "cell_type": "code",
   "execution_count": 48,
   "metadata": {},
   "outputs": [
    {
     "name": "stdout",
     "output_type": "stream",
     "text": [
      "+-----------+\n",
      "|          a|\n",
      "+-----------+\n",
      "|Map(b -> 1)|\n",
      "+-----------+\n",
      "\n"
     ]
    }
   ],
   "source": [
    "events.show()"
   ]
  },
  {
   "cell_type": "code",
   "execution_count": 49,
   "metadata": {
    "collapsed": true
   },
   "outputs": [],
   "source": [
    "events = jsonToDataFrame(\"\"\"\n",
    "{\n",
    "  \"a\": 1,\n",
    "  \"b\": 2,\n",
    "  \"c\": 3\n",
    "}\n",
    "\"\"\")"
   ]
  },
  {
   "cell_type": "code",
   "execution_count": 50,
   "metadata": {},
   "outputs": [
    {
     "name": "stdout",
     "output_type": "stream",
     "text": [
      "+---+---+---+\n",
      "|  a|  b|  c|\n",
      "+---+---+---+\n",
      "|  1|  2|  3|\n",
      "+---+---+---+\n",
      "\n"
     ]
    }
   ],
   "source": [
    "events.show()"
   ]
  },
  {
   "cell_type": "code",
   "execution_count": 51,
   "metadata": {
    "collapsed": true
   },
   "outputs": [],
   "source": [
    "events = jsonToDataFrame(\"\"\"\n",
    "{\n",
    "  \"a\": 1,\n",
    "  \"b\": 2\n",
    "}\n",
    "\"\"\")"
   ]
  },
  {
   "cell_type": "code",
   "execution_count": 54,
   "metadata": {},
   "outputs": [
    {
     "name": "stdout",
     "output_type": "stream",
     "text": [
      "+-----+\n",
      "|    x|\n",
      "+-----+\n",
      "|[1,2]|\n",
      "+-----+\n",
      "\n"
     ]
    }
   ],
   "source": [
    "events.select(struct(\"*\").alias(\"x\")).show()"
   ]
  },
  {
   "cell_type": "code",
   "execution_count": 55,
   "metadata": {
    "collapsed": true
   },
   "outputs": [],
   "source": [
    "# Using a map\n",
    "schema = StructType().add(\"a\", MapType(StringType(), IntegerType()))\n",
    "\n",
    "events = jsonToDataFrame(\"\"\"\n",
    "{\n",
    "  \"a\": {\n",
    "    \"b\": 1\n",
    "  }\n",
    "}\n",
    "\"\"\", schema)"
   ]
  },
  {
   "cell_type": "code",
   "execution_count": 56,
   "metadata": {},
   "outputs": [
    {
     "name": "stdout",
     "output_type": "stream",
     "text": [
      "+---+\n",
      "|  x|\n",
      "+---+\n",
      "|  1|\n",
      "+---+\n",
      "\n"
     ]
    }
   ],
   "source": [
    "events.select(col(\"a\").getItem(\"b\").alias(\"x\")).show()"
   ]
  },
  {
   "cell_type": "code",
   "execution_count": 57,
   "metadata": {},
   "outputs": [
    {
     "name": "stdout",
     "output_type": "stream",
     "text": [
      "+---+\n",
      "|  x|\n",
      "+---+\n",
      "|  1|\n",
      "|  2|\n",
      "+---+\n",
      "\n"
     ]
    }
   ],
   "source": [
    "events = jsonToDataFrame(\"\"\"\n",
    "{\n",
    "  \"a\": [1, 2]\n",
    "}\n",
    "\"\"\")\n",
    "\n",
    "events.select(explode(\"a\").alias(\"x\")).show()"
   ]
  },
  {
   "cell_type": "code",
   "execution_count": 58,
   "metadata": {},
   "outputs": [
    {
     "name": "stdout",
     "output_type": "stream",
     "text": [
      "+---+---+\n",
      "|  x|  y|\n",
      "+---+---+\n",
      "|  b|  1|\n",
      "|  c|  2|\n",
      "+---+---+\n",
      "\n"
     ]
    }
   ],
   "source": [
    "# Using a map\n",
    "schema = StructType().add(\"a\", MapType(StringType(), IntegerType()))\n",
    "\n",
    "events = jsonToDataFrame(\"\"\"\n",
    "{\n",
    "  \"a\": {\n",
    "    \"b\": 1,\n",
    "    \"c\": 2\n",
    "  }\n",
    "}\n",
    "\"\"\", schema)\n",
    "\n",
    "events.select(explode(\"a\").alias(\"x\", \"y\")).show()"
   ]
  },
  {
   "cell_type": "code",
   "execution_count": null,
   "metadata": {
    "collapsed": true
   },
   "outputs": [],
   "source": []
  }
 ],
 "metadata": {
  "kernelspec": {
   "display_name": "Python 3",
   "language": "python",
   "name": "python3"
  },
  "language_info": {
   "codemirror_mode": {
    "name": "ipython",
    "version": 3
   },
   "file_extension": ".py",
   "mimetype": "text/x-python",
   "name": "python",
   "nbconvert_exporter": "python",
   "pygments_lexer": "ipython3",
   "version": "3.6.3"
  }
 },
 "nbformat": 4,
 "nbformat_minor": 2
}
