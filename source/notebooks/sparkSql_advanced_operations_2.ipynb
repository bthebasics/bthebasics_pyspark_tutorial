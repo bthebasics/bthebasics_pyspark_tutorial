{
 "cells": [
  {
   "cell_type": "code",
   "execution_count": 1,
   "metadata": {},
   "outputs": [
    {
     "name": "stdout",
     "output_type": "stream",
     "text": [
      "root\n",
      " |-- Order_ID: string (nullable = true)\n",
      " |-- OrderDate: string (nullable = true)\n",
      " |-- City: string (nullable = true)\n",
      " |-- Category: string (nullable = true)\n",
      " |-- Sub_Category: string (nullable = true)\n",
      " |-- Sales: double (nullable = true)\n",
      " |-- Quantitty: integer (nullable = true)\n",
      " |-- Region: string (nullable = true)\n",
      "\n"
     ]
    }
   ],
   "source": [
    "superStoreDF = spark.read.csv(\"file:///C:/data/SuperStore/SuperStore_US_Sales.csv\", header = True, inferSchema = True)\n",
    "superStoreDF.printSchema()"
   ]
  },
  {
   "cell_type": "code",
   "execution_count": 2,
   "metadata": {
    "collapsed": true
   },
   "outputs": [],
   "source": [
    "from pyspark.sql.functions import *"
   ]
  },
  {
   "cell_type": "code",
   "execution_count": 5,
   "metadata": {
    "collapsed": true
   },
   "outputs": [],
   "source": [
    "from_pattern1 = 'MM/dd/yyyy'\n",
    "to_pattern1 = 'yyyy-MM-dd'\n",
    "\n",
    "from_pattern2 = 'MM/dd/yyyy hh:mm:ss aa'\n",
    "to_pattern2 = 'MM/dd/yyyy hh:mm:ss aa'"
   ]
  },
  {
   "cell_type": "code",
   "execution_count": 3,
   "metadata": {},
   "outputs": [
    {
     "data": {
      "text/plain": [
       "Row(Order_ID='CA-2017-107727', OrderDate='10/19/2017', City='Houston', Category='Office Supplies', Sub_Category='Paper', Sales=29.472, Quantitty=3, Region='Central')"
      ]
     },
     "execution_count": 3,
     "metadata": {},
     "output_type": "execute_result"
    }
   ],
   "source": [
    "superStoreDF.head()"
   ]
  },
  {
   "cell_type": "code",
   "execution_count": 15,
   "metadata": {},
   "outputs": [],
   "source": [
    "superStoreDFTS = superStoreDF.withColumn(\"OrderDateTS\", unix_timestamp(superStoreDF['OrderDate'],from_pattern1 ).cast(\"timestamp\")).drop(\"OrderDate\") \\\n",
    ".withColumn(\"high_spend\", superStoreDF['Sales'] > 50 )"
   ]
  },
  {
   "cell_type": "code",
   "execution_count": 17,
   "metadata": {},
   "outputs": [
    {
     "name": "stdout",
     "output_type": "stream",
     "text": [
      "root\n",
      " |-- Order_ID: string (nullable = true)\n",
      " |-- City: string (nullable = true)\n",
      " |-- Category: string (nullable = true)\n",
      " |-- Sub_Category: string (nullable = true)\n",
      " |-- Sales: double (nullable = true)\n",
      " |-- Quantitty: integer (nullable = true)\n",
      " |-- Region: string (nullable = true)\n",
      " |-- OrderDateTS: timestamp (nullable = true)\n",
      " |-- high_spend: boolean (nullable = true)\n",
      "\n",
      "+--------------+-------------+---------------+------------+-------+---------+-------+-------------------+----------+\n",
      "|      Order_ID|         City|       Category|Sub_Category|  Sales|Quantitty| Region|        OrderDateTS|high_spend|\n",
      "+--------------+-------------+---------------+------------+-------+---------+-------+-------------------+----------+\n",
      "|US-2017-119662|      Chicago|Office Supplies|     Storage|230.376|        3|Central|2017-11-13 00:00:00|      true|\n",
      "|CA-2017-161018|New York City|      Furniture| Furnishings|  96.53|        7|   East|2017-11-09 00:00:00|      true|\n",
      "|CA-2017-119004|    Charlotte|     Technology| Accessories| 74.112|        8|  South|2017-11-23 00:00:00|      true|\n",
      "|US-2017-107272|      Phoenix|Office Supplies|     Storage|243.992|        7|   West|2017-11-05 00:00:00|      true|\n",
      "|CA-2017-155376| Independence|Office Supplies|  Appliances| 839.43|        3|Central|2017-12-22 00:00:00|      true|\n",
      "+--------------+-------------+---------------+------------+-------+---------+-------+-------------------+----------+\n",
      "only showing top 5 rows\n",
      "\n"
     ]
    }
   ],
   "source": [
    "superStoreDFTS.printSchema()\n",
    "superStoreDFTS.where(\"high_spend = true\").show(5)"
   ]
  },
  {
   "cell_type": "code",
   "execution_count": null,
   "metadata": {
    "collapsed": true
   },
   "outputs": [],
   "source": []
  }
 ],
 "metadata": {
  "kernelspec": {
   "display_name": "Python 3",
   "language": "python",
   "name": "python3"
  },
  "language_info": {
   "codemirror_mode": {
    "name": "ipython",
    "version": 3
   },
   "file_extension": ".py",
   "mimetype": "text/x-python",
   "name": "python",
   "nbconvert_exporter": "python",
   "pygments_lexer": "ipython3",
   "version": "3.6.3"
  }
 },
 "nbformat": 4,
 "nbformat_minor": 2
}
