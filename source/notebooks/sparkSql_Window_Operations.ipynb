{
 "cells": [
  {
   "cell_type": "code",
   "execution_count": 1,
   "metadata": {},
   "outputs": [
    {
     "data": {
      "text/html": [
       "\n",
       "        <div>\n",
       "            <p><b>SparkContext</b></p>\n",
       "\n",
       "            <p><a href=\"http://192.168.184.1:4041\">Spark UI</a></p>\n",
       "\n",
       "            <dl>\n",
       "              <dt>Version</dt>\n",
       "                <dd><code>v2.2.0</code></dd>\n",
       "              <dt>Master</dt>\n",
       "                <dd><code>local[*]</code></dd>\n",
       "              <dt>AppName</dt>\n",
       "                <dd><code>PySparkShell</code></dd>\n",
       "            </dl>\n",
       "        </div>\n",
       "        "
      ],
      "text/plain": [
       "<SparkContext master=local[*] appName=PySparkShell>"
      ]
     },
     "execution_count": 1,
     "metadata": {},
     "output_type": "execute_result"
    }
   ],
   "source": [
    "sc"
   ]
  },
  {
   "cell_type": "code",
   "execution_count": 9,
   "metadata": {
    "collapsed": true
   },
   "outputs": [],
   "source": [
    "superStoreDF = spark.read.csv(\"file:///C:/data/SuperStore/SuperStore_US_Sales.csv\", header = True, inferSchema = True)"
   ]
  },
  {
   "cell_type": "code",
   "execution_count": 10,
   "metadata": {},
   "outputs": [
    {
     "name": "stdout",
     "output_type": "stream",
     "text": [
      "root\n",
      " |-- Order_ID: string (nullable = true)\n",
      " |-- OrderDate: string (nullable = true)\n",
      " |-- City: string (nullable = true)\n",
      " |-- Category: string (nullable = true)\n",
      " |-- Sub_Category: string (nullable = true)\n",
      " |-- Sales: double (nullable = true)\n",
      " |-- Quantitty: integer (nullable = true)\n",
      " |-- Region: string (nullable = true)\n",
      "\n",
      "+--------------+----------+-------+---------------+------------+------+---------+-------+\n",
      "|      Order_ID| OrderDate|   City|       Category|Sub_Category| Sales|Quantitty| Region|\n",
      "+--------------+----------+-------+---------------+------------+------+---------+-------+\n",
      "|CA-2017-107727|10/19/2017|Houston|Office Supplies|       Paper|29.472|        3|Central|\n",
      "|US-2017-118038| 12/9/2017|Houston|Office Supplies|     Binders| 1.248|        3|Central|\n",
      "+--------------+----------+-------+---------------+------------+------+---------+-------+\n",
      "only showing top 2 rows\n",
      "\n"
     ]
    }
   ],
   "source": [
    "superStoreDF.printSchema()\n",
    "superStoreDF.show(2)"
   ]
  },
  {
   "cell_type": "code",
   "execution_count": 3,
   "metadata": {
    "collapsed": true
   },
   "outputs": [],
   "source": [
    "managerInfoDF = spark.read.csv(\"file:///C:/data/SuperStore/managerByRegion.csv\", header = True, inferSchema = True)"
   ]
  },
  {
   "cell_type": "code",
   "execution_count": 4,
   "metadata": {},
   "outputs": [
    {
     "name": "stdout",
     "output_type": "stream",
     "text": [
      "+-------------+------+\n",
      "|       Person|Region|\n",
      "+-------------+------+\n",
      "|Anna Andreadi|  West|\n",
      "|  Chuck Magee|  East|\n",
      "+-------------+------+\n",
      "only showing top 2 rows\n",
      "\n"
     ]
    }
   ],
   "source": [
    "managerInfoDF.show(2)"
   ]
  },
  {
   "cell_type": "code",
   "execution_count": 5,
   "metadata": {},
   "outputs": [
    {
     "name": "stdout",
     "output_type": "stream",
     "text": [
      "+--------+--------------+\n",
      "|Returned|      Order ID|\n",
      "+--------+--------------+\n",
      "|     Yes|CA-2017-153822|\n",
      "|     Yes|CA-2017-129707|\n",
      "+--------+--------------+\n",
      "only showing top 2 rows\n",
      "\n"
     ]
    }
   ],
   "source": [
    "returnInfoDF = spark.read.csv(\"file:///C:/data/SuperStore/totalReturns.csv\", header = True, inferSchema = True)\n",
    "returnInfoDF.show(2)"
   ]
  },
  {
   "cell_type": "code",
   "execution_count": 11,
   "metadata": {},
   "outputs": [
    {
     "name": "stdout",
     "output_type": "stream",
     "text": [
      "+--------------+----------+-------------+---------------+------------+-------+---------+-------+\n",
      "|      Order_ID| OrderDate|         City|       Category|Sub_Category|  Sales|Quantitty| Region|\n",
      "+--------------+----------+-------------+---------------+------------+-------+---------+-------+\n",
      "|CA-2017-107727|10/19/2017|      Houston|Office Supplies|       Paper| 29.472|        3|Central|\n",
      "|US-2017-118038| 12/9/2017|      Houston|Office Supplies|     Binders|  1.248|        3|Central|\n",
      "|US-2017-118038| 12/9/2017|      Houston|      Furniture| Furnishings|  9.708|        3|Central|\n",
      "|US-2017-118038| 12/9/2017|      Houston|Office Supplies|     Storage|  27.24|        3|Central|\n",
      "|US-2017-119662|11/13/2017|      Chicago|Office Supplies|     Storage|230.376|        3|Central|\n",
      "|CA-2017-155558|10/26/2017|    Rochester|     Technology| Accessories|  19.99|        1|Central|\n",
      "|CA-2017-155558|10/26/2017|    Rochester|Office Supplies|      Labels|   6.16|        2|Central|\n",
      "|US-2017-109484| 11/6/2017|     Portland|Office Supplies|     Binders|  5.682|        1|   West|\n",
      "|CA-2017-161018| 11/9/2017|New York City|      Furniture| Furnishings|  96.53|        7|   East|\n",
      "|CA-2017-119004|11/23/2017|    Charlotte|     Technology| Accessories| 74.112|        8|  South|\n",
      "|CA-2017-119004|11/23/2017|    Charlotte|     Technology|      Phones| 27.992|        1|  South|\n",
      "|CA-2017-119004|11/23/2017|    Charlotte|Office Supplies|         Art|  3.304|        1|  South|\n",
      "|CA-2017-146780|12/25/2017|New York City|      Furniture| Furnishings|  41.96|        2|   East|\n",
      "|US-2017-107272| 11/5/2017|      Phoenix|Office Supplies|     Binders|  2.388|        2|   West|\n",
      "|US-2017-107272| 11/5/2017|      Phoenix|Office Supplies|     Storage|243.992|        7|   West|\n",
      "|CA-2017-155376|12/22/2017| Independence|Office Supplies|  Appliances| 839.43|        3|Central|\n",
      "|CA-2017-107720| 11/6/2017|    Westfield|Office Supplies|     Storage|  46.26|        3|   East|\n",
      "|US-2017-116701|12/17/2017|       Dallas|Office Supplies|  Appliances| 66.284|        2|Central|\n",
      "|CA-2017-108329| 12/9/2017|     Whittier|     Technology|      Phones|444.768|        4|   West|\n",
      "|CA-2017-135860| 12/1/2017|      Saginaw|Office Supplies|     Storage|  83.92|        4|Central|\n",
      "+--------------+----------+-------------+---------------+------------+-------+---------+-------+\n",
      "only showing top 20 rows\n",
      "\n"
     ]
    }
   ],
   "source": [
    "superStoreDF.createOrReplaceGlobalTempView(\"SuperStore123\")\n",
    "superStoreDF.select(\"*\").show()"
   ]
  },
  {
   "cell_type": "code",
   "execution_count": 21,
   "metadata": {
    "collapsed": true,
    "scrolled": true
   },
   "outputs": [],
   "source": [
    "#OrDate,City, sum(Sales) from superStore group by OrderDate,City\").show()"
   ]
  },
  {
   "cell_type": "code",
   "execution_count": 17,
   "metadata": {},
   "outputs": [
    {
     "name": "stdout",
     "output_type": "stream",
     "text": [
      "+----------+-------------+--------+----+\n",
      "| orderDate|         city|   sales|rnk1|\n",
      "+----------+-------------+--------+----+\n",
      "| 10/1/2017|New York City| 1704.89|   1|\n",
      "|10/10/2017|       Aurora| 239.358|   1|\n",
      "|10/12/2017|     Lakewood| 2258.28|   1|\n",
      "|10/13/2017|   Sacramento|5325.884|   1|\n",
      "|10/14/2017|San Francisco|   46.36|   1|\n",
      "|10/15/2017|  Los Angeles|  715.19|   1|\n",
      "|10/16/2017|     Columbia|1893.786|   1|\n",
      "|10/17/2017|      Warwick|   62.92|   1|\n",
      "|10/19/2017|   Burlington|1633.188|   1|\n",
      "| 10/2/2017|    Knoxville|2437.672|   1|\n",
      "+----------+-------------+--------+----+\n",
      "only showing top 10 rows\n",
      "\n"
     ]
    }
   ],
   "source": [
    "superStoreDF.registerTempTable(\"ss1\")\n",
    "sqlContext.sql(\"select orderDate, city, sales, rank() over (partition by orderDate order by sales desc) rnk1 from (select orderDate, city, sum(sales) as sales from ss1 group by orderDate, city order by orderDate) as tmp \").where(\"rnk1 = 1\").show(10)"
   ]
  },
  {
   "cell_type": "code",
   "execution_count": 18,
   "metadata": {
    "collapsed": true
   },
   "outputs": [],
   "source": [
    "superStoreBASEDF = sqlContext.sql(\"select orderDate, city, sum(sales) as sales from ss1 group by orderDate, city order by orderDate\")"
   ]
  },
  {
   "cell_type": "code",
   "execution_count": 19,
   "metadata": {},
   "outputs": [
    {
     "name": "stdout",
     "output_type": "stream",
     "text": [
      "root\n",
      " |-- orderDate: string (nullable = true)\n",
      " |-- city: string (nullable = true)\n",
      " |-- sales: double (nullable = true)\n",
      "\n"
     ]
    }
   ],
   "source": [
    "superStoreBASEDF.printSchema()"
   ]
  },
  {
   "cell_type": "code",
   "execution_count": 21,
   "metadata": {
    "collapsed": true
   },
   "outputs": [],
   "source": [
    "from pyspark.sql.window import Window\n",
    "from pyspark.sql.functions import desc\n",
    "\n",
    "windowSpec = Window.partitionBy(\"orderDate\").orderBy(desc(\"sales\")).rowsBetween(Window.unboundedPreceding, Window.currentRow)"
   ]
  },
  {
   "cell_type": "code",
   "execution_count": 34,
   "metadata": {
    "collapsed": true
   },
   "outputs": [],
   "source": [
    "from pyspark.sql.functions import max\n",
    "from pyspark.sql.functions import dense_rank, rank\n",
    "from pyspark.sql.functions import expr, col, column, desc, expr\n"
   ]
  },
  {
   "cell_type": "code",
   "execution_count": 24,
   "metadata": {
    "collapsed": true
   },
   "outputs": [],
   "source": [
    "salesRank = rank().over(windowSpec)"
   ]
  },
  {
   "cell_type": "code",
   "execution_count": 37,
   "metadata": {
    "collapsed": true
   },
   "outputs": [
    {
     "name": "stdout",
     "output_type": "stream",
     "text": [
      "+---------+-------------+-----------+------------+\n",
      "|orderDate|         city|total_sales|sales_ranker|\n",
      "+---------+-------------+-----------+------------+\n",
      "|12/9/2017|     Richmond|    1827.51|           1|\n",
      "|12/9/2017|      Detroit|    1115.68|           2|\n",
      "|12/9/2017|  Los Angeles|    1096.49|           3|\n",
      "|12/9/2017|     Whittier|     444.77|           4|\n",
      "|12/9/2017|      Phoenix|     432.41|           5|\n",
      "|12/9/2017|      Salinas|     148.26|           6|\n",
      "|12/9/2017|   Park Ridge|     143.86|           7|\n",
      "|12/9/2017|   Cincinnati|      94.78|           8|\n",
      "|12/9/2017| Grand Rapids|       54.9|           9|\n",
      "|12/9/2017| Indianapolis|      43.85|          10|\n",
      "|12/9/2017|      Houston|       38.2|          11|\n",
      "|12/9/2017|      Chicago|      15.98|          12|\n",
      "|12/9/2017| Philadelphia|      13.71|          13|\n",
      "|12/8/2017|San Francisco|    4268.57|           1|\n",
      "|12/8/2017|      Madison|    1816.36|           2|\n",
      "|12/8/2017|     Cranston|     592.74|           3|\n",
      "|12/8/2017|New York City|     433.78|           4|\n",
      "|12/8/2017| Philadelphia|     312.78|           5|\n",
      "|12/8/2017|    Inglewood|     218.81|           6|\n",
      "|12/7/2017|      Chicago|    1889.99|           1|\n",
      "+---------+-------------+-----------+------------+\n",
      "only showing top 20 rows\n",
      "\n"
     ]
    }
   ],
   "source": [
    "superStoreBASEDF.orderBy(desc(\"orderDate\")).select(\"orderDate\", \"city\", expr(\"round(sales,2)\").alias(\"total_sales\"), salesRank.alias(\"sales_ranker\")).show()"
   ]
  },
  {
   "cell_type": "code",
   "execution_count": 38,
   "metadata": {},
   "outputs": [
    {
     "name": "stdout",
     "output_type": "stream",
     "text": [
      "== Physical Plan ==\n",
      "*Project [orderDate#162, city#163, total_sales#525, sales_ranker#526]\n",
      "+- Window [rank(sales#388) windowspecdefinition(orderDate#162, sales#388 DESC NULLS LAST, ROWS BETWEEN UNBOUNDED PRECEDING AND CURRENT ROW) AS sales_ranker#526], [orderDate#162], [sales#388 DESC NULLS LAST]\n",
      "   +- *Sort [orderDate#162 ASC NULLS FIRST, sales#388 DESC NULLS LAST], false, 0\n",
      "      +- *Project [orderDate#162, city#163, round(sales#388, 2) AS total_sales#525, sales#388]\n",
      "         +- *Sort [orderDate#162 DESC NULLS LAST], true, 0\n",
      "            +- Exchange rangepartitioning(orderDate#162 DESC NULLS LAST, 200)\n",
      "               +- *Sort [orderDate#162 ASC NULLS FIRST], true, 0\n",
      "                  +- Exchange rangepartitioning(orderDate#162 ASC NULLS FIRST, 200)\n",
      "                     +- *HashAggregate(keys=[orderDate#162, city#163], functions=[sum(sales#166)])\n",
      "                        +- Exchange hashpartitioning(orderDate#162, city#163, 200)\n",
      "                           +- *HashAggregate(keys=[orderDate#162, city#163], functions=[partial_sum(sales#166)])\n",
      "                              +- *FileScan csv [OrderDate#162,City#163,Sales#166] Batched: false, Format: CSV, Location: InMemoryFileIndex[file:/C:/data/SuperStore/SuperStore_US_Sales.csv], PartitionFilters: [], PushedFilters: [], ReadSchema: struct<OrderDate:string,City:string,Sales:double>\n"
     ]
    }
   ],
   "source": [
    "superStoreBASEDF.orderBy(desc(\"orderDate\")).select(\"orderDate\", \"city\", expr(\"round(sales,2)\").alias(\"total_sales\"), salesRank.alias(\"sales_ranker\")).explain()"
   ]
  },
  {
   "cell_type": "code",
   "execution_count": 40,
   "metadata": {},
   "outputs": [
    {
     "name": "stdout",
     "output_type": "stream",
     "text": [
      "+---------+-------------+-----------+------------+\n",
      "|orderDate|         city|total_sales|sales_ranker|\n",
      "+---------+-------------+-----------+------------+\n",
      "|12/9/2017|     Richmond|    1827.51|           1|\n",
      "|12/8/2017|San Francisco|    4268.57|           1|\n",
      "|12/7/2017|      Chicago|    1889.99|           1|\n",
      "|12/6/2017|    Brentwood|      10.68|           1|\n",
      "|12/5/2017|      Seattle|     497.04|           1|\n",
      "+---------+-------------+-----------+------------+\n",
      "only showing top 5 rows\n",
      "\n"
     ]
    }
   ],
   "source": [
    "superStoreBASEDF.orderBy(desc(\"orderDate\")).select(\"orderDate\", \"city\", expr(\"round(sales,2)\").alias(\"total_sales\"), salesRank.alias(\"sales_ranker\")).where(\"sales_ranker = 1\").show(5)"
   ]
  },
  {
   "cell_type": "code",
   "execution_count": 41,
   "metadata": {},
   "outputs": [
    {
     "name": "stdout",
     "output_type": "stream",
     "text": [
      "root\n",
      " |-- Order_ID: string (nullable = true)\n",
      " |-- OrderDate: string (nullable = true)\n",
      " |-- City: string (nullable = true)\n",
      " |-- Category: string (nullable = true)\n",
      " |-- Sub_Category: string (nullable = true)\n",
      " |-- Sales: double (nullable = true)\n",
      " |-- Quantitty: integer (nullable = true)\n",
      " |-- Region: string (nullable = true)\n",
      "\n"
     ]
    }
   ],
   "source": [
    "superStoreDF.printSchema()"
   ]
  },
  {
   "cell_type": "code",
   "execution_count": 59,
   "metadata": {},
   "outputs": [
    {
     "name": "stdout",
     "output_type": "stream",
     "text": [
      "+----------+-------------+------------------+\n",
      "| orderDate|         city|             sales|\n",
      "+----------+-------------+------------------+\n",
      "| 10/1/2017|San Francisco|            104.75|\n",
      "| 10/1/2017|      Fremont|            104.85|\n",
      "| 10/1/2017|     San Jose|           413.784|\n",
      "| 10/1/2017|  San Antonio|             6.672|\n",
      "| 10/1/2017|New York City|           1704.89|\n",
      "| 10/1/2017|      Seattle|            643.52|\n",
      "|10/10/2017|       Aurora|           239.358|\n",
      "|10/12/2017|       Monroe|             7.968|\n",
      "|10/12/2017|New York City|              9.96|\n",
      "|10/12/2017|     Rockford|           254.604|\n",
      "|10/12/2017|     Wheeling|           673.344|\n",
      "|10/12/2017|  Los Angeles|441.71999999999997|\n",
      "|10/12/2017|     Lakewood|           2258.28|\n",
      "|10/12/2017|San Francisco|            102.83|\n",
      "|10/12/2017|       Dallas|1211.7759999999998|\n",
      "|10/12/2017|  Albuquerque|           674.872|\n",
      "|10/13/2017|   Louisville|            348.56|\n",
      "|10/13/2017| Philadelphia|           114.376|\n",
      "|10/13/2017|    Lafayette|           1541.51|\n",
      "|10/13/2017|New York City|             904.9|\n",
      "+----------+-------------+------------------+\n",
      "only showing top 20 rows\n",
      "\n"
     ]
    },
    {
     "data": {
      "text/plain": [
       "' \\nselect orderDate, city, sum(sales) as sales from ss1 group by orderDate, city order by orderDate\\n'"
      ]
     },
     "execution_count": 59,
     "metadata": {},
     "output_type": "execute_result"
    }
   ],
   "source": [
    "superStoreDF.groupby(\"orderDate\",\"city\").sum(\"Sales\").select(\"orderDate\", \"city\", col(\"sum(Sales)\").alias(\"sales\")).orderBy(\"orderDate\").show()\n",
    "\n",
    "\"\"\" \n",
    "select orderDate, city, sum(sales) as sales from ss1 group by orderDate, city order by orderDate\n",
    "\"\"\"\n"
   ]
  },
  {
   "cell_type": "code",
   "execution_count": null,
   "metadata": {
    "collapsed": true
   },
   "outputs": [],
   "source": []
  }
 ],
 "metadata": {
  "kernelspec": {
   "display_name": "Python 3",
   "language": "python",
   "name": "python3"
  },
  "language_info": {
   "codemirror_mode": {
    "name": "ipython",
    "version": 3
   },
   "file_extension": ".py",
   "mimetype": "text/x-python",
   "name": "python",
   "nbconvert_exporter": "python",
   "pygments_lexer": "ipython3",
   "version": "3.6.3"
  }
 },
 "nbformat": 4,
 "nbformat_minor": 2
}
