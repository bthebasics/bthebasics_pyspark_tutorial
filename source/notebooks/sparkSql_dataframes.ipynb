{
 "cells": [
  {
   "cell_type": "code",
   "execution_count": 1,
   "metadata": {},
   "outputs": [
    {
     "data": {
      "text/html": [
       "\n",
       "            <div>\n",
       "                <p><b>SparkSession - hive</b></p>\n",
       "                \n",
       "        <div>\n",
       "            <p><b>SparkContext</b></p>\n",
       "\n",
       "            <p><a href=\"http://192.168.184.1:4040\">Spark UI</a></p>\n",
       "\n",
       "            <dl>\n",
       "              <dt>Version</dt>\n",
       "                <dd><code>v2.2.1</code></dd>\n",
       "              <dt>Master</dt>\n",
       "                <dd><code>local[*]</code></dd>\n",
       "              <dt>AppName</dt>\n",
       "                <dd><code>PySparkShell</code></dd>\n",
       "            </dl>\n",
       "        </div>\n",
       "        \n",
       "            </div>\n",
       "        "
      ],
      "text/plain": [
       "<pyspark.sql.session.SparkSession at 0x23d1c036198>"
      ]
     },
     "execution_count": 1,
     "metadata": {},
     "output_type": "execute_result"
    }
   ],
   "source": [
    "spark"
   ]
  },
  {
   "cell_type": "code",
   "execution_count": 11,
   "metadata": {},
   "outputs": [
    {
     "name": "stdout",
     "output_type": "stream",
     "text": [
      "root\n",
      " |-- Brand: string (nullable = true)\n",
      " |-- Vehicle Name: string (nullable = true)\n",
      " |-- Hybrid: integer (nullable = true)\n",
      " |-- SuggestedRetailPrice: integer (nullable = true)\n",
      " |-- DealerCost: integer (nullable = true)\n",
      " |-- EngineSize: double (nullable = true)\n",
      " |-- Cylinders: integer (nullable = true)\n",
      " |-- Horsepower: integer (nullable = true)\n",
      " |-- CityMPG: integer (nullable = true)\n",
      " |-- HighwayMPG: integer (nullable = true)\n",
      " |-- Weight: integer (nullable = true)\n",
      " |-- WheelBase: integer (nullable = true)\n",
      " |-- Length: integer (nullable = true)\n",
      " |-- Width: integer (nullable = true)\n",
      "\n"
     ]
    }
   ],
   "source": [
    "carDF = spark.read.csv(\"file:///C:/data/cars04.csv\", header = True, inferSchema = True)\n",
    "carDF.printSchema()"
   ]
  },
  {
   "cell_type": "code",
   "execution_count": 9,
   "metadata": {},
   "outputs": [
    {
     "data": {
      "text/plain": [
       "pyspark.sql.dataframe.DataFrame"
      ]
     },
     "execution_count": 9,
     "metadata": {},
     "output_type": "execute_result"
    }
   ],
   "source": [
    "type(carDF)"
   ]
  },
  {
   "cell_type": "code",
   "execution_count": 7,
   "metadata": {},
   "outputs": [
    {
     "data": {
      "text/plain": [
       "DataFrame[summary: string, Brand: string, Vehicle Name: string, Hybrid: string, SuggestedRetailPrice: string, DealerCost: string, EngineSize: string, Cylinders: string, Horsepower: string, CityMPG: string, HighwayMPG: string, Weight: string, WheelBase: string, Length: string, Width: string]"
      ]
     },
     "execution_count": 7,
     "metadata": {},
     "output_type": "execute_result"
    }
   ],
   "source": [
    "carDF.describe()"
   ]
  },
  {
   "cell_type": "code",
   "execution_count": 10,
   "metadata": {
    "collapsed": true
   },
   "outputs": [],
   "source": [
    "from pyspark.sql.types import StructType, StructField, IntegerType, StringType, BooleanType"
   ]
  },
  {
   "cell_type": "code",
   "execution_count": 12,
   "metadata": {},
   "outputs": [
    {
     "data": {
      "text/plain": [
       "234"
      ]
     },
     "execution_count": 12,
     "metadata": {},
     "output_type": "execute_result"
    }
   ],
   "source": [
    "carDF.count()"
   ]
  },
  {
   "cell_type": "code",
   "execution_count": 13,
   "metadata": {},
   "outputs": [
    {
     "data": {
      "text/plain": [
       "1"
      ]
     },
     "execution_count": 13,
     "metadata": {},
     "output_type": "execute_result"
    }
   ],
   "source": [
    "carDF.rdd.getNumPartitions()"
   ]
  },
  {
   "cell_type": "code",
   "execution_count": 14,
   "metadata": {},
   "outputs": [
    {
     "data": {
      "text/plain": [
       "['Brand',\n",
       " 'Vehicle Name',\n",
       " 'Hybrid',\n",
       " 'SuggestedRetailPrice',\n",
       " 'DealerCost',\n",
       " 'EngineSize',\n",
       " 'Cylinders',\n",
       " 'Horsepower',\n",
       " 'CityMPG',\n",
       " 'HighwayMPG',\n",
       " 'Weight',\n",
       " 'WheelBase',\n",
       " 'Length',\n",
       " 'Width']"
      ]
     },
     "execution_count": 14,
     "metadata": {},
     "output_type": "execute_result"
    }
   ],
   "source": [
    "carDF.columns"
   ]
  },
  {
   "cell_type": "code",
   "execution_count": 19,
   "metadata": {},
   "outputs": [
    {
     "name": "stdout",
     "output_type": "stream",
     "text": [
      "+--------------------------+\n",
      "|Vehicle Name              |\n",
      "+--------------------------+\n",
      "|Jaguar S-Type 4.2 4dr     |\n",
      "|Toyota Corolla S 4dr      |\n",
      "|Lincoln LS V8 Ultimate 4dr|\n",
      "|Mini Cooper               |\n",
      "|Buick Park Avenue 4dr     |\n",
      "+--------------------------+\n",
      "only showing top 5 rows\n",
      "\n"
     ]
    }
   ],
   "source": [
    "#carDF.select('Vehicle Name').distinct().show(5)\n",
    "carDF.select('Vehicle Name').distinct().show(5, False)"
   ]
  },
  {
   "cell_type": "code",
   "execution_count": 21,
   "metadata": {},
   "outputs": [
    {
     "name": "stdout",
     "output_type": "stream",
     "text": [
      "+------+-----+\n",
      "|Hybrid|count|\n",
      "+------+-----+\n",
      "|     1|    3|\n",
      "|     0|  231|\n",
      "+------+-----+\n",
      "\n"
     ]
    }
   ],
   "source": [
    "carDF.select('Hybrid').groupBy('Hybrid').count().show()"
   ]
  },
  {
   "cell_type": "code",
   "execution_count": 22,
   "metadata": {
    "collapsed": true
   },
   "outputs": [],
   "source": [
    "ChicagoCrimeDF = spark.read.csv(\"file:///C:/data/ChicagoChrime.csv\", header = True, inferSchema = True)\n"
   ]
  },
  {
   "cell_type": "code",
   "execution_count": 23,
   "metadata": {},
   "outputs": [
    {
     "name": "stdout",
     "output_type": "stream",
     "text": [
      "root\n",
      " |-- ID: integer (nullable = true)\n",
      " |-- Date: string (nullable = true)\n",
      " |-- Block: string (nullable = true)\n",
      " |-- Primary Type: string (nullable = true)\n",
      " |-- Location Description: string (nullable = true)\n",
      " |-- Arrest: boolean (nullable = true)\n",
      " |-- Domestic: boolean (nullable = true)\n",
      " |-- District: integer (nullable = true)\n",
      " |-- Ward: integer (nullable = true)\n",
      " |-- Community Area: integer (nullable = true)\n",
      " |-- FBI Code: string (nullable = true)\n",
      " |-- Updated On: string (nullable = true)\n",
      "\n"
     ]
    }
   ],
   "source": [
    "ChicagoCrimeDF.printSchema()"
   ]
  },
  {
   "cell_type": "code",
   "execution_count": 26,
   "metadata": {
    "scrolled": false
   },
   "outputs": [
    {
     "name": "stdout",
     "output_type": "stream",
     "text": [
      "+--------+--------------+--------------------+------------------+--------------------+------+--------+--------+----+--------------+--------+----------------+\n",
      "|      ID|          Date|               Block|      Primary Type|Location Description|Arrest|Domestic|District|Ward|Community Area|FBI Code|      Updated On|\n",
      "+--------+--------------+--------------------+------------------+--------------------+------+--------+--------+----+--------------+--------+----------------+\n",
      "|11139728|10/1/2017 0:01|061XX S MAYFIELD AVE|DECEPTIVE PRACTICE|           RESIDENCE| false|   false|       8|  13|            64|      11| 11/6/2017 15:50|\n",
      "|11132491|10/1/2017 0:01|     046XX W ERIE ST|DECEPTIVE PRACTICE|           RESIDENCE| false|   false|      11|  28|            25|      11|10/30/2017 15:53|\n",
      "|11125323|10/1/2017 0:01|  061XX W ADDISON ST|DECEPTIVE PRACTICE|           RESIDENCE| false|   false|      16|  38|            17|      11|10/23/2017 15:50|\n",
      "|11114359|10/1/2017 0:01| 006XX N LARAMIE AVE|             THEFT|           RESIDENCE| false|    true|      15|  28|            25|       6|10/12/2017 15:46|\n",
      "|11105352|10/1/2017 0:01|032XX S CARPENTER ST|   CRIMINAL DAMAGE|    RESIDENCE-GARAGE| false|   false|       9|  11|            60|      14| 10/8/2017 15:49|\n",
      "+--------+--------------+--------------------+------------------+--------------------+------+--------+--------+----+--------------+--------+----------------+\n",
      "\n"
     ]
    }
   ],
   "source": [
    "ChicagoCrimeDF.limit(5).show()"
   ]
  },
  {
   "cell_type": "code",
   "execution_count": 31,
   "metadata": {
    "collapsed": true
   },
   "outputs": [],
   "source": [
    "from pyspark.sql.types import StructType, StructField, IntegerType, StringType, BooleanType"
   ]
  },
  {
   "cell_type": "code",
   "execution_count": 27,
   "metadata": {
    "collapsed": true
   },
   "outputs": [],
   "source": [
    "ChicagoCrimeSchema = StructType([StructField('ID', IntegerType(), True),\n",
    "                     StructField('Date', StringType(), True),\n",
    "                     StructField('Block', StringType(), True),\n",
    "                     StructField('PrimaryType', StringType(), True),                  \n",
    "                     StructField('LocationDescription', StringType(), True),       \n",
    "                     StructField('Arrest', BooleanType(), True),       \n",
    "                     StructField('Domestic', BooleanType(), True),       \n",
    "                     StructField('District', IntegerType(), True),       \n",
    "                     StructField('Ward', IntegerType(), True),       \n",
    "                     StructField('CommunityArea', StringType(), True),       \n",
    "                     StructField('FBICode', StringType(), True),       \n",
    "                     StructField('UpdatedOn', StringType(), True)])"
   ]
  },
  {
   "cell_type": "code",
   "execution_count": 65,
   "metadata": {
    "collapsed": true
   },
   "outputs": [],
   "source": [
    "ChicagoCrimeDF = spark.read.csv(\"file:///C:/data/ChicagoChrime.csv\", header = True, schema = ChicagoCrimeSchema)"
   ]
  },
  {
   "cell_type": "code",
   "execution_count": 66,
   "metadata": {},
   "outputs": [
    {
     "name": "stdout",
     "output_type": "stream",
     "text": [
      "root\n",
      " |-- ID: integer (nullable = true)\n",
      " |-- Date: string (nullable = true)\n",
      " |-- Block: string (nullable = true)\n",
      " |-- PrimaryType: string (nullable = true)\n",
      " |-- LocationDescription: string (nullable = true)\n",
      " |-- Arrest: boolean (nullable = true)\n",
      " |-- Domestic: boolean (nullable = true)\n",
      " |-- District: integer (nullable = true)\n",
      " |-- Ward: integer (nullable = true)\n",
      " |-- CommunityArea: string (nullable = true)\n",
      " |-- FBICode: string (nullable = true)\n",
      " |-- UpdatedOn: string (nullable = true)\n",
      "\n"
     ]
    }
   ],
   "source": [
    "ChicagoCrimeDF.printSchema()"
   ]
  },
  {
   "cell_type": "code",
   "execution_count": 37,
   "metadata": {},
   "outputs": [
    {
     "name": "stdout",
     "output_type": "stream",
     "text": [
      "+--------------------+-----+\n",
      "|         PrimaryType|count|\n",
      "+--------------------+-----+\n",
      "|               THEFT|13517|\n",
      "|             BATTERY| 9741|\n",
      "|     CRIMINAL DAMAGE| 5874|\n",
      "|             ASSAULT| 3757|\n",
      "|  DECEPTIVE PRACTICE| 3321|\n",
      "|       OTHER OFFENSE| 3142|\n",
      "|             ROBBERY| 2769|\n",
      "|            BURGLARY| 2735|\n",
      "| MOTOR VEHICLE THEFT| 2485|\n",
      "|           NARCOTICS| 1953|\n",
      "|   CRIMINAL TRESPASS| 1378|\n",
      "|   WEAPONS VIOLATION|  887|\n",
      "|OFFENSE INVOLVING...|  437|\n",
      "| CRIM SEXUAL ASSAULT|  304|\n",
      "|PUBLIC PEACE VIOL...|  280|\n",
      "|INTERFERENCE WITH...|  198|\n",
      "|         SEX OFFENSE|  177|\n",
      "|        PROSTITUTION|  122|\n",
      "|            HOMICIDE|  113|\n",
      "|               ARSON|   93|\n",
      "+--------------------+-----+\n",
      "only showing top 20 rows\n",
      "\n"
     ]
    }
   ],
   "source": [
    "ChicagoCrimeDF.select('PrimaryType').groupBy('PrimaryType').count().orderBy(\"count\", ascending=False).show()"
   ]
  },
  {
   "cell_type": "code",
   "execution_count": 67,
   "metadata": {
    "collapsed": true
   },
   "outputs": [],
   "source": [
    "from pyspark.sql.functions import *"
   ]
  },
  {
   "cell_type": "code",
   "execution_count": 100,
   "metadata": {
    "collapsed": true
   },
   "outputs": [],
   "source": [
    "from_pattern1 = 'MM/dd/yyyy'\n",
    "\n",
    "from_pattern2 = 'MM/dd/yyyy hh:mm:ss'\n",
    "\n",
    "ChicagoCrimeDF1= ChicagoCrimeDF.withColumn('IncidentDate', unix_timestamp(ChicagoCrimeDF['Date'], from_pattern1).cast(\"timestamp\")).withColumn('UpdatedOnTS', unix_timestamp(ChicagoCrimeDF['UpdatedOn'], from_pattern1).cast(\"timestamp\"))#.drop('UpdatedOnTS') \n",
    "                 \n",
    "  #.withColumn('UpdatedOnTS', unix_timestamp(ChicagoCrimeDF['UpdatedOn'], from_pattern2).cast(\"timestamp\")) \\\n",
    "  #.drop('WatchDate') \\"
   ]
  },
  {
   "cell_type": "code",
   "execution_count": 120,
   "metadata": {},
   "outputs": [
    {
     "name": "stdout",
     "output_type": "stream",
     "text": [
      "root\n",
      " |-- ID: integer (nullable = true)\n",
      " |-- Date: string (nullable = true)\n",
      " |-- Block: string (nullable = true)\n",
      " |-- PrimaryType: string (nullable = true)\n",
      " |-- LocationDescription: string (nullable = true)\n",
      " |-- Arrest: boolean (nullable = true)\n",
      " |-- Domestic: boolean (nullable = true)\n",
      " |-- District: integer (nullable = true)\n",
      " |-- Ward: integer (nullable = true)\n",
      " |-- CommunityArea: string (nullable = true)\n",
      " |-- FBICode: string (nullable = true)\n",
      " |-- UpdatedOn: string (nullable = true)\n",
      " |-- IncidentDate: timestamp (nullable = true)\n",
      " |-- UpdatedOnTS: timestamp (nullable = true)\n",
      "\n"
     ]
    }
   ],
   "source": [
    "ChicagoCrimeDF1.printSchema() #select('IncidentDate').show()"
   ]
  },
  {
   "cell_type": "code",
   "execution_count": 116,
   "metadata": {},
   "outputs": [
    {
     "name": "stdout",
     "output_type": "stream",
     "text": [
      "+------------------+\n",
      "|month(UpdatedOnTS)|\n",
      "+------------------+\n",
      "|                11|\n",
      "|                10|\n",
      "|                10|\n",
      "|                10|\n",
      "|                10|\n",
      "|                10|\n",
      "|                10|\n",
      "|                10|\n",
      "|                10|\n",
      "|                10|\n",
      "|                10|\n",
      "|                12|\n",
      "|                10|\n",
      "|                10|\n",
      "|                10|\n",
      "|                10|\n",
      "|                10|\n",
      "|                10|\n",
      "|                10|\n",
      "|                10|\n",
      "+------------------+\n",
      "only showing top 20 rows\n",
      "\n"
     ]
    }
   ],
   "source": [
    "import calendar\n",
    "\n",
    "#ChicagoCrimeDF1.select(calendar.month_name[month('UpdatedOnTS')]).show()\n",
    "ChicagoCrimeDF1.select(month('UpdatedOnTS')).show()"
   ]
  },
  {
   "cell_type": "code",
   "execution_count": 107,
   "metadata": {},
   "outputs": [
    {
     "data": {
      "text/plain": [
       "['',\n",
       " 'January',\n",
       " 'February',\n",
       " 'March',\n",
       " 'April',\n",
       " 'May',\n",
       " 'June',\n",
       " 'July',\n",
       " 'August',\n",
       " 'September',\n",
       " 'October',\n",
       " 'November',\n",
       " 'December']"
      ]
     },
     "execution_count": 107,
     "metadata": {},
     "output_type": "execute_result"
    }
   ],
   "source": [
    "import calendar\n",
    "list(calendar.month_name)"
   ]
  },
  {
   "cell_type": "code",
   "execution_count": 126,
   "metadata": {},
   "outputs": [
    {
     "name": "stdout",
     "output_type": "stream",
     "text": [
      "+------------------+-----+\n",
      "|month(UpdatedOnTS)|count|\n",
      "+------------------+-----+\n",
      "|                12|16213|\n",
      "|                10|16368|\n",
      "|                11|20894|\n",
      "+------------------+-----+\n",
      "\n"
     ]
    }
   ],
   "source": [
    "ChicagoCrimeDF1.select(month('UpdatedOnTS')).groupBy('month(UpdatedOnTS)').count().show()"
   ]
  },
  {
   "cell_type": "code",
   "execution_count": null,
   "metadata": {
    "collapsed": true
   },
   "outputs": [],
   "source": []
  },
  {
   "cell_type": "code",
   "execution_count": 127,
   "metadata": {},
   "outputs": [
    {
     "data": {
      "text/plain": [
       "2"
      ]
     },
     "execution_count": 127,
     "metadata": {},
     "output_type": "execute_result"
    }
   ],
   "source": [
    "ChicagoCrimeDF1.rdd.getNumPartitions()"
   ]
  },
  {
   "cell_type": "code",
   "execution_count": 128,
   "metadata": {
    "collapsed": true
   },
   "outputs": [],
   "source": [
    "ChicagoCrimeDF1.repartition(6).createOrReplaceTempView(\"ChicagoCrimeView\")"
   ]
  },
  {
   "cell_type": "code",
   "execution_count": 129,
   "metadata": {
    "collapsed": true
   },
   "outputs": [],
   "source": [
    "spark.catalog.cacheTable(\"ChicagoCrimeView\")"
   ]
  },
  {
   "cell_type": "code",
   "execution_count": 130,
   "metadata": {},
   "outputs": [
    {
     "data": {
      "text/plain": [
       "53475"
      ]
     },
     "execution_count": 130,
     "metadata": {},
     "output_type": "execute_result"
    }
   ],
   "source": [
    "spark.table(\"ChicagoCrimeView\").count()"
   ]
  },
  {
   "cell_type": "code",
   "execution_count": 132,
   "metadata": {},
   "outputs": [
    {
     "data": {
      "text/plain": [
       "True"
      ]
     },
     "execution_count": 132,
     "metadata": {},
     "output_type": "execute_result"
    }
   ],
   "source": [
    "spark.catalog.isCached(\"ChicagoCrimeView\")"
   ]
  },
  {
   "cell_type": "code",
   "execution_count": 133,
   "metadata": {
    "collapsed": true
   },
   "outputs": [],
   "source": [
    "ChicagoCrimeDF1.write.format('parquet').save('file:///C:/data/ChicagoCrimeDFParquet/')"
   ]
  },
  {
   "cell_type": "code",
   "execution_count": 134,
   "metadata": {
    "collapsed": true
   },
   "outputs": [],
   "source": [
    "ChicagoCrimeDF1.write.format('json').save('file:///C:/data/ChicagoCrimeDFJSON/')"
   ]
  },
  {
   "cell_type": "code",
   "execution_count": 137,
   "metadata": {},
   "outputs": [
    {
     "name": "stdout",
     "output_type": "stream",
     "text": [
      "+--------+\n",
      "|count(1)|\n",
      "+--------+\n",
      "|   53475|\n",
      "+--------+\n",
      "\n"
     ]
    }
   ],
   "source": [
    "spark.sql(\"select count(1) from ChicagoCrimeView\").show()"
   ]
  },
  {
   "cell_type": "code",
   "execution_count": 141,
   "metadata": {},
   "outputs": [
    {
     "name": "stdout",
     "output_type": "stream",
     "text": [
      "+-----+-------------------+\n",
      "|cnt  |PrimaryType        |\n",
      "+-----+-------------------+\n",
      "|13517|THEFT              |\n",
      "|9741 |BATTERY            |\n",
      "|5874 |CRIMINAL DAMAGE    |\n",
      "|3757 |ASSAULT            |\n",
      "|3321 |DECEPTIVE PRACTICE |\n",
      "|3142 |OTHER OFFENSE      |\n",
      "|2769 |ROBBERY            |\n",
      "|2735 |BURGLARY           |\n",
      "|2485 |MOTOR VEHICLE THEFT|\n",
      "|1953 |NARCOTICS          |\n",
      "+-----+-------------------+\n",
      "only showing top 10 rows\n",
      "\n"
     ]
    }
   ],
   "source": [
    "spark.sql(\"select count(*) as cnt, PrimaryType from ChicagoCrimeView group by PrimaryType order by cnt desc\").show(10,False)"
   ]
  },
  {
   "cell_type": "code",
   "execution_count": 143,
   "metadata": {},
   "outputs": [
    {
     "name": "stdout",
     "output_type": "stream",
     "text": [
      "+--------+------------------+-------------------+\n",
      "|District|PrimaryType       |UpdatedOnTS        |\n",
      "+--------+------------------+-------------------+\n",
      "|20      |THEFT             |2017-12-22 00:00:00|\n",
      "|20      |OTHER OFFENSE     |2017-12-22 00:00:00|\n",
      "|20      |DECEPTIVE PRACTICE|2017-12-22 00:00:00|\n",
      "|20      |BATTERY           |2017-12-22 00:00:00|\n",
      "|20      |ASSAULT           |2017-12-22 00:00:00|\n",
      "|20      |BURGLARY          |2017-12-22 00:00:00|\n",
      "|20      |NARCOTICS         |2017-12-22 00:00:00|\n",
      "|20      |THEFT             |2017-12-22 00:00:00|\n",
      "|20      |THEFT             |2017-12-22 00:00:00|\n",
      "|20      |THEFT             |2017-12-22 00:00:00|\n",
      "+--------+------------------+-------------------+\n",
      "only showing top 10 rows\n",
      "\n"
     ]
    }
   ],
   "source": [
    "spark.sql(\"select District, PrimaryType, UpdatedOnTS from ChicagoCrimeView where District = '20' order by UpdatedOnTS desc\").show(10,False)"
   ]
  },
  {
   "cell_type": "code",
   "execution_count": 147,
   "metadata": {
    "collapsed": true
   },
   "outputs": [],
   "source": [
    "ChicagoCrimeTSDF = spark.read.csv(\"file:///C:/data/ChicagoChrime_TS.csv\", header = True, schema = ChicagoCrimeSchema)"
   ]
  },
  {
   "cell_type": "code",
   "execution_count": 148,
   "metadata": {},
   "outputs": [
    {
     "name": "stdout",
     "output_type": "stream",
     "text": [
      "root\n",
      " |-- ID: integer (nullable = true)\n",
      " |-- Date: string (nullable = true)\n",
      " |-- Block: string (nullable = true)\n",
      " |-- PrimaryType: string (nullable = true)\n",
      " |-- LocationDescription: string (nullable = true)\n",
      " |-- Arrest: boolean (nullable = true)\n",
      " |-- Domestic: boolean (nullable = true)\n",
      " |-- District: integer (nullable = true)\n",
      " |-- Ward: integer (nullable = true)\n",
      " |-- CommunityArea: string (nullable = true)\n",
      " |-- FBICode: string (nullable = true)\n",
      " |-- UpdatedOn: string (nullable = true)\n",
      "\n"
     ]
    }
   ],
   "source": [
    "ChicagoCrimeTSDF.printSchema()"
   ]
  },
  {
   "cell_type": "code",
   "execution_count": 155,
   "metadata": {
    "collapsed": true
   },
   "outputs": [],
   "source": [
    "from_pattern1 = 'MM/dd/yyyy'\n",
    "\n",
    "from_pattern2 = 'MM/dd/yyyy hh:mm:ss aa'\n",
    "\n",
    "ChicagoCrimeTSDF1= ChicagoCrimeTSDF.withColumn('UpdatedOnTS', unix_timestamp(ChicagoCrimeTSDF['UpdatedOn'], from_pattern2).cast(\"timestamp\"))\n",
    "                 \n",
    "  #.withColumn('UpdatedOnTS', unix_timestamp(ChicagoCrimeDF['UpdatedOn'], from_pattern2).cast(\"timestamp\")) \\\n",
    "  #.drop('WatchDate') \\"
   ]
  },
  {
   "cell_type": "code",
   "execution_count": 156,
   "metadata": {
    "collapsed": true
   },
   "outputs": [],
   "source": [
    "ChicagoCrimeTSDF1.repartition(6).createOrReplaceTempView(\"ChicagoCrimeTSDFView\")"
   ]
  },
  {
   "cell_type": "code",
   "execution_count": 161,
   "metadata": {},
   "outputs": [
    {
     "name": "stdout",
     "output_type": "stream",
     "text": [
      "+--------+-------------------+-------------------+-----+\n",
      "|District|PrimaryType        |UpdatedOnTS        |rank1|\n",
      "+--------+-------------------+-------------------+-----+\n",
      "|12      |CRIM SEXUAL ASSAULT|2017-12-22 15:49:00|1    |\n",
      "|12      |DECEPTIVE PRACTICE |2017-12-22 15:49:00|2    |\n",
      "|12      |THEFT              |2017-12-22 15:49:00|3    |\n",
      "|22      |BATTERY            |2017-12-22 15:49:00|1    |\n",
      "|22      |THEFT              |2017-12-22 15:49:00|2    |\n",
      "|22      |THEFT              |2017-12-22 15:49:00|3    |\n",
      "|1       |THEFT              |2017-12-22 15:49:00|1    |\n",
      "|1       |THEFT              |2017-12-22 15:49:00|2    |\n",
      "|1       |BATTERY            |2017-12-22 15:49:00|3    |\n",
      "|6       |CRIMINAL DAMAGE    |2017-12-22 15:49:00|1    |\n",
      "+--------+-------------------+-------------------+-----+\n",
      "only showing top 10 rows\n",
      "\n"
     ]
    }
   ],
   "source": [
    "spark.sql(\"select * from (select District, PrimaryType, UpdatedOnTS, row_number() over(partition by District order by UpdatedOnTS desc ) as rank1 from ChicagoCrimeTSDFView ) as tempview where rank1 < 4\").show(10,False)"
   ]
  },
  {
   "cell_type": "code",
   "execution_count": null,
   "metadata": {
    "collapsed": true
   },
   "outputs": [],
   "source": []
  }
 ],
 "metadata": {
  "kernelspec": {
   "display_name": "Python 3",
   "language": "python",
   "name": "python3"
  },
  "language_info": {
   "codemirror_mode": {
    "name": "ipython",
    "version": 3
   },
   "file_extension": ".py",
   "mimetype": "text/x-python",
   "name": "python",
   "nbconvert_exporter": "python",
   "pygments_lexer": "ipython3",
   "version": "3.6.3"
  }
 },
 "nbformat": 4,
 "nbformat_minor": 2
}
